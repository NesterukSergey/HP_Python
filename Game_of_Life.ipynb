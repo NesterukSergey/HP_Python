{
 "cells": [
  {
   "cell_type": "markdown",
   "metadata": {},
   "source": [
    "Schelling's Model"
   ]
  },
  {
   "cell_type": "code",
   "execution_count": 1,
   "metadata": {},
   "outputs": [],
   "source": [
    "import random\n",
    "import matplotlib.pyplot as plt\n",
    "import numpy as np\n",
    "import matplotlib\n",
    "import matplotlib.cm as cm\n",
    "import imageio\n",
    "from IPython.display import HTML\n",
    "import cmath\n",
    "from scipy import signal\n",
    "\n",
    "from pylab import rcParams\n",
    "rcParams['figure.figsize'] = 14, 11\n",
    "matplotlib.rc('font', **{'size': 20})"
   ]
  },
  {
   "cell_type": "code",
   "execution_count": 251,
   "metadata": {},
   "outputs": [],
   "source": [
    "class Life():\n",
    "    def __init__(self,\n",
    "                 agents_percent=0.5,\n",
    "                 low_threshold=4,\n",
    "                 high_threshold=7,\n",
    "                 field_size=100,\n",
    "                 dimensions=2):\n",
    "        '''\n",
    "        Creates a class for the game of life.\n",
    "        \n",
    "        @param agents_percent (float): per cent of filled cells.\n",
    "        @param low_threshold (int): agent wants to move if it has less tham low_threshold neighbors.\n",
    "        @param high_threshold (int): agent wants to move if it has more tham low_threshold neighbors.\n",
    "        @param field_size (int): size of the map dimention.\n",
    "        @param dimensions (int): number od dimensions.\n",
    "    \n",
    "        '''\n",
    "        \n",
    "        assert dimensions in [2, 3]\n",
    "        assert agents_percent <= 1\n",
    "        assert low_threshold > 0\n",
    "        assert high_threshold <= (3 ** dimensions) - 1\n",
    "        \n",
    "        self._dimensions = dimensions\n",
    "        self._agents_percent = agents_percent\n",
    "        self._field_size = field_size\n",
    "        self._low_threshold = low_threshold\n",
    "        self._high_threshold = high_threshold\n",
    "        \n",
    "        self._agents_count = []\n",
    "        self._unstable_agents_count = []\n",
    "        \n",
    "        self._get_init_map()\n",
    "        self._count_neighbors()\n",
    "        self._get_unstable()\n",
    "        self._unstable_agents_count.append(self._unstable)\n",
    "        self._agents_count.append(self._get_agents_count())\n",
    "        \n",
    "    def step(self):\n",
    "        ''' Makes one game step '''\n",
    "        self._count_neighbors()\n",
    "        self._get_unstable()\n",
    "        \n",
    "        self._move()\n",
    "        self._unstable_agents_count.append(self._unstable)\n",
    "        self._agents_count.append(self._get_agents_count())\n",
    "    \n",
    "    def show(self):\n",
    "        ''' Plots current map state '''\n",
    "        fig, axs = plt.subplots(1, 3)\n",
    "        axs[0].set_title('City map')\n",
    "        axs[0].matshow(self._map, cmap=cm.binary)\n",
    "        \n",
    "#         unstable = np.zeros(self._map.shape)\n",
    "#         for i in range(len(self._unstable[0])):\n",
    "#             unstable[self._unstable[0][0], self._unstable[0][1]] = 1\n",
    "            \n",
    "        axs[1].set_title('Moving map')\n",
    "        axs[1].matshow(self._unstable, cmap=cm.binary)\n",
    "        \n",
    "        \n",
    "    def _get_init_map(self):\n",
    "        ''' Randomly distributes agents '''\n",
    "        self._map = (\n",
    "            np.random.rand(*[self._field_size for i in range(self._dimensions)]) < self._agents_percent\n",
    "        ).astype(int)\n",
    "    \n",
    "    def _count_neighbors(self):\n",
    "        ''' Returns matrix with counts of each elements' neighbors '''\n",
    "        a = self._map\n",
    "        b = np.zeros(tuple([i + 2 for i in a.shape]))\n",
    "        neighbors = []\n",
    "        \n",
    "        if self._dimensions == 2:\n",
    "            neighbors = self._count_neighbors_2d(a, b)\n",
    "        if self._dimensions == 3:\n",
    "            neighbors = self._count_neighbors_3d(a, b)\n",
    "        \n",
    "        self._neighbors = neighbors\n",
    "        \n",
    "    def _count_neighbors_2d(self, a, b):\n",
    "        b[1:-1, 1:-1] = a\n",
    "        result = np.zeros(a.shape)\n",
    "\n",
    "        for i in range(a.shape[0]):\n",
    "            for j in range(a.shape[1]):\n",
    "                result[i, j] = sum(np.ravel(b[i:i+3, j:j+3]))\n",
    "        return (result - a).astype(int)\n",
    "    \n",
    "    def _count_neighbors_3d(self, a, b):\n",
    "        b[1:-1, 1:-1, 1:-1] = a\n",
    "        result = np.zeros(a.shape)\n",
    "\n",
    "        for i in range(a.shape[0]):\n",
    "            for j in range(a.shape[1]):\n",
    "                for k in range(a.shape[2]):\n",
    "                    result[i, j, k] = sum(np.ravel(b[i:i+3, j:j+3, k:k+3]))\n",
    "        return (result - a).astype(int)\n",
    "    \n",
    "    def _get_agents_count(self):\n",
    "        return sum(np.ravel(self._map))\n",
    "    \n",
    "    def _get_unstable(self):\n",
    "        ''' Returns arrays of unstable agents' coordinates '''\n",
    "        self._unstable = ((self._low_threshold > self._neighbors) | \n",
    "                          (self._neighbors > self._high_threshold)).astype(int)\n",
    "        \n",
    "    def _move(self):\n",
    "        pass\n",
    "        \n",
    "        \n",
    "        "
   ]
  },
  {
   "cell_type": "code",
   "execution_count": 252,
   "metadata": {},
   "outputs": [],
   "source": [
    "game = Life(agents_percent=0.5,\n",
    "            low_threshold=4,\n",
    "            high_threshold=7,\n",
    "            field_size=10,\n",
    "            dimensions=2)"
   ]
  },
  {
   "cell_type": "code",
   "execution_count": 253,
   "metadata": {},
   "outputs": [
    {
     "data": {
      "text/plain": [
       "array([[1, 1, 0, 1, 0, 1, 1, 0, 1, 0],\n",
       "       [1, 0, 0, 0, 0, 0, 0, 0, 1, 0],\n",
       "       [1, 0, 0, 1, 1, 1, 1, 1, 0, 1],\n",
       "       [1, 0, 0, 0, 1, 1, 1, 1, 1, 1],\n",
       "       [1, 1, 1, 1, 1, 1, 0, 0, 1, 0],\n",
       "       [0, 1, 1, 0, 0, 0, 0, 1, 1, 1],\n",
       "       [1, 1, 1, 0, 1, 0, 1, 1, 1, 0],\n",
       "       [0, 1, 0, 0, 0, 1, 0, 1, 0, 0],\n",
       "       [1, 1, 1, 0, 1, 1, 1, 0, 0, 1],\n",
       "       [1, 0, 0, 0, 0, 0, 0, 0, 1, 1]])"
      ]
     },
     "execution_count": 253,
     "metadata": {},
     "output_type": "execute_result"
    }
   ],
   "source": [
    "game._map"
   ]
  },
  {
   "cell_type": "code",
   "execution_count": 254,
   "metadata": {},
   "outputs": [
    {
     "data": {
      "text/plain": [
       "array([[2, 2, 2, 0, 2, 1, 1, 3, 1, 2],\n",
       "       [3, 4, 3, 3, 5, 5, 5, 5, 3, 3],\n",
       "       [2, 3, 1, 2, 4, 5, 5, 5, 6, 3],\n",
       "       [3, 5, 4, 6, 7, 7, 6, 5, 5, 3],\n",
       "       [3, 5, 4, 4, 4, 4, 5, 6, 6, 5],\n",
       "       [5, 7, 6, 6, 4, 4, 4, 5, 5, 3],\n",
       "       [3, 5, 4, 3, 1, 3, 4, 5, 5, 3],\n",
       "       [5, 6, 5, 4, 4, 5, 6, 4, 4, 2],\n",
       "       [3, 4, 2, 2, 2, 3, 3, 3, 4, 2],\n",
       "       [2, 4, 2, 2, 2, 3, 2, 2, 2, 2]])"
      ]
     },
     "execution_count": 254,
     "metadata": {},
     "output_type": "execute_result"
    }
   ],
   "source": [
    "game._neighbors"
   ]
  },
  {
   "cell_type": "code",
   "execution_count": 255,
   "metadata": {},
   "outputs": [
    {
     "data": {
      "text/plain": [
       "array([[1, 1, 1, 1, 1, 1, 1, 1, 1, 1],\n",
       "       [1, 0, 1, 1, 0, 0, 0, 0, 1, 1],\n",
       "       [1, 1, 1, 1, 0, 0, 0, 0, 0, 1],\n",
       "       [1, 0, 0, 0, 0, 0, 0, 0, 0, 1],\n",
       "       [1, 0, 0, 0, 0, 0, 0, 0, 0, 0],\n",
       "       [0, 0, 0, 0, 0, 0, 0, 0, 0, 1],\n",
       "       [1, 0, 0, 1, 1, 1, 0, 0, 0, 1],\n",
       "       [0, 0, 0, 0, 0, 0, 0, 0, 0, 1],\n",
       "       [1, 0, 1, 1, 1, 1, 1, 1, 0, 1],\n",
       "       [1, 0, 1, 1, 1, 1, 1, 1, 1, 1]])"
      ]
     },
     "execution_count": 255,
     "metadata": {},
     "output_type": "execute_result"
    }
   ],
   "source": [
    "game._unstable"
   ]
  },
  {
   "cell_type": "code",
   "execution_count": 256,
   "metadata": {},
   "outputs": [
    {
     "data": {
      "image/png": "[encoded data removed]",
      "text/plain": [
       "<Figure size 432x288 with 3 Axes>"
      ]
     },
     "metadata": {
      "needs_background": "light"
     },
     "output_type": "display_data"
    }
   ],
   "source": [
    "game.show()"
   ]
  },
  {
   "cell_type": "code",
   "execution_count": null,
   "metadata": {},
   "outputs": [],
   "source": []
  },
  {
   "cell_type": "code",
   "execution_count": null,
   "metadata": {},
   "outputs": [],
   "source": []
  },
  {
   "cell_type": "code",
   "execution_count": null,
   "metadata": {},
   "outputs": [],
   "source": []
  }
 ],
 "metadata": {
  "kernelspec": {
   "display_name": "Python 3",
   "language": "python",
   "name": "python3"
  },
  "language_info": {
   "codemirror_mode": {
    "name": "ipython",
    "version": 3
   },
   "file_extension": ".py",
   "mimetype": "text/x-python",
   "name": "python",
   "nbconvert_exporter": "python",
   "pygments_lexer": "ipython3",
   "version": "3.7.5"
  }
 },
 "nbformat": 4,
 "nbformat_minor": 2
}
