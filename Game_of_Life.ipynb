{
 "cells": [
  {
   "cell_type": "markdown",
   "metadata": {},
   "source": [
    "Schelling's Model"
   ]
  },
  {
   "cell_type": "code",
   "execution_count": 1,
   "metadata": {},
   "outputs": [],
   "source": [
    "import numpy as np"
   ]
  },
  {
   "cell_type": "code",
   "execution_count": null,
   "metadata": {},
   "outputs": [],
   "source": [
    "class Life():\n",
    "    def __init__(self,\n",
    "                 agents_init_fraction,\n",
    "                 low_threshold=4,\n",
    "                 high_threshold=7,\n",
    "                field_x_size=100,\n",
    "                field_y_size=100):\n",
    "        '''\n",
    "        Creates a class fore game of life.\n",
    "        \n",
    "        @param agents_init_fraction (list): list for initial amount of units for each agent type.\n",
    "        @param low_threshold (int): agent wants to move if it has less tham low_threshold neighbors.\n",
    "        @param high_threshold (int): agent wants to move if it has more tham low_threshold neighbors.\n",
    "        @param field_x_size (int): width of the map.\n",
    "        @param field_y_size (int): hight of the map.\n",
    "    \n",
    "        '''\n",
    "        \n",
    "        assert sum(agents_init_fraction) <= 1        \n",
    "        self.map = np.zeros((field_y_size, field_x_size))\n",
    "        \n",
    "        \n",
    "        "
   ]
  },
  {
   "cell_type": "code",
   "execution_count": null,
   "metadata": {},
   "outputs": [],
   "source": []
  }
 ],
 "metadata": {
  "kernelspec": {
   "display_name": "Python 3",
   "language": "python",
   "name": "python3"
  },
  "language_info": {
   "codemirror_mode": {
    "name": "ipython",
    "version": 3
   },
   "file_extension": ".py",
   "mimetype": "text/x-python",
   "name": "python",
   "nbconvert_exporter": "python",
   "pygments_lexer": "ipython3",
   "version": "3.7.5"
  }
 },
 "nbformat": 4,
 "nbformat_minor": 2
}
