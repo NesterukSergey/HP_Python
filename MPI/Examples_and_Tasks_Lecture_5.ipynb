{
 "cells": [
  {
   "cell_type": "markdown",
   "metadata": {
    "colab_type": "text",
    "id": "XNAjOxCLQZw0"
   },
   "source": [
    "# <strong> Hello World! </strong> \n"
   ]
  },
  {
   "cell_type": "code",
   "execution_count": 1,
   "metadata": {
    "colab": {
     "base_uri": "https://localhost:8080/",
     "height": 125
    },
    "colab_type": "code",
    "id": "vOE5CX6DRLGM",
    "outputId": "216054f2-2bb8-4629-b543-a5a21ffbf8a6"
   },
   "outputs": [
    {
     "name": "stdout",
     "output_type": "stream",
     "text": [
      "\n",
      "from mpi4py import MPI\n",
      "\n",
      "comm = MPI.COMM_WORLD\n",
      "rank = comm.Get_rank()\n",
      "\n",
      "print(\"Hello world from rank %r!\" % rank)\n",
      "\n"
     ]
    }
   ],
   "source": [
    "# Open and display the script:\n",
    "f = open(\"Hello_world.py\", \"r\")\n",
    "print(f.read())\n",
    "f.close()"
   ]
  },
  {
   "cell_type": "code",
   "execution_count": 2,
   "metadata": {
    "colab": {
     "base_uri": "https://localhost:8080/",
     "height": 197
    },
    "colab_type": "code",
    "id": "IHPYDKGRRXR2",
    "outputId": "c81930b7-1ed0-488c-dbda-414da7c5618e",
    "scrolled": true
   },
   "outputs": [
    {
     "name": "stdout",
     "output_type": "stream",
     "text": [
      "Traceback (most recent call last):\n",
      "  File \"Hello_world.py\", line 2, in <module>\n",
      "    from mpi4py import MPI\n",
      "ModuleNotFoundError: No module named 'mpi4py'\n",
      "Traceback (most recent call last):\n",
      "  File \"Hello_world.py\", line 2, in <module>\n",
      "    from mpi4py import MPI\n",
      "ModuleNotFoundError: No module named 'mpi4py'\n",
      "Traceback (most recent call last):\n",
      "  File \"Hello_world.py\", line 2, in <module>\n",
      "    from mpi4py import MPI\n",
      "ModuleNotFoundError: No module named 'mpi4py'\n",
      "Traceback (most recent call last):\n",
      "  File \"Hello_world.py\", line 2, in <module>\n",
      "    from mpi4py import MPI\n",
      "ModuleNotFoundError: No module named 'mpi4py'\n",
      "Traceback (most recent call last):\n",
      "  File \"Hello_world.py\", line 2, in <module>\n",
      "    from mpi4py import MPI\n",
      "ModuleNotFoundError: No module named 'mpi4py'\n",
      "Traceback (most recent call last):\n",
      "  File \"Hello_world.py\", line 2, in <module>\n",
      "    from mpi4py import MPI\n",
      "ModuleNotFoundError: No module named 'mpi4py'\n",
      "Traceback (most recent call last):\n",
      "  File \"Hello_world.py\", line 2, in <module>\n",
      "    from mpi4py import MPI\n",
      "ModuleNotFoundError: No module named 'mpi4py'\n",
      "Traceback (most recent call last):\n",
      "  File \"Hello_world.py\", line 2, in <module>\n",
      "    from mpi4py import MPI\n",
      "ModuleNotFoundError: No module named 'mpi4py'\n",
      "-------------------------------------------------------\n",
      "Primary job  terminated normally, but 1 process returned\n",
      "a non-zero exit code.. Per user-direction, the job has been aborted.\n",
      "-------------------------------------------------------\n",
      "Traceback (most recent call last):\n",
      "  File \"Hello_world.py\", line 2, in <module>\n",
      "    from mpi4py import MPI\n",
      "ModuleNotFoundError: No module named 'mpi4py'\n",
      "Traceback (most recent call last):\n",
      "  File \"Hello_world.py\", line 2, in <module>\n",
      "    from mpi4py import MPI\n",
      "ModuleNotFoundError: No module named 'mpi4py'\n",
      "--------------------------------------------------------------------------\n",
      "mpirun detected that one or more processes exited with non-zero status, thus causing\n",
      "the job to be terminated. The first process to do so was:\n",
      "\n",
      "  Process name: [[14304,1],0]\n",
      "  Exit code:    1\n",
      "--------------------------------------------------------------------------\n"
     ]
    }
   ],
   "source": [
    "# Parallel run the script in terminal\n",
    "\n",
    "# ! -- running the command in terminal\n",
    "# mpirun -- command for running scripts with MPI\n",
    "# -n <Number> -- specify the number of processes\n",
    "\n",
    "!mpirun -n 10 python Hello_world.py"
   ]
  },
  {
   "cell_type": "code",
   "execution_count": null,
   "metadata": {
    "colab": {
     "base_uri": "https://localhost:8080/",
     "height": 197
    },
    "colab_type": "code",
    "id": "IHPYDKGRRXR2",
    "outputId": "c81930b7-1ed0-488c-dbda-414da7c5618e",
    "scrolled": true
   },
   "outputs": [],
   "source": [
    "# Use this when in Google colab\n",
    "!mpiexec --allow-run-as-root -n 10 python -m mpi4py Hello_world.py"
   ]
  },
  {
   "cell_type": "markdown",
   "metadata": {
    "colab_type": "text",
    "id": "-kqEBA9VR52P"
   },
   "source": [
    "# <strong> Blocking point-to-point communication\n",
    "</strong> \n"
   ]
  },
  {
   "cell_type": "code",
   "execution_count": null,
   "metadata": {
    "colab": {},
    "colab_type": "code",
    "id": "0-jkgZdgSfmR"
   },
   "outputs": [],
   "source": [
    "f = open(\"Simple_blocking_p2p.py\", \"r\")\n",
    "print(f.read())\n",
    "f.close()"
   ]
  },
  {
   "cell_type": "code",
   "execution_count": null,
   "metadata": {
    "colab": {
     "base_uri": "https://localhost:8080/",
     "height": 71
    },
    "colab_type": "code",
    "id": "OSBIFJtaSpQi",
    "outputId": "509d96d8-3e94-4a36-f7b7-ef71050efec4"
   },
   "outputs": [],
   "source": [
    "!mpirun -n 3 python Simple_blocking_p2p.py"
   ]
  },
  {
   "cell_type": "markdown",
   "metadata": {
    "colab_type": "text",
    "id": "-kqEBA9VR52P"
   },
   "source": [
    "# <strong> NumPy blocking point-to-point communication </strong> \n"
   ]
  },
  {
   "cell_type": "code",
   "execution_count": null,
   "metadata": {
    "colab": {},
    "colab_type": "code",
    "id": "0-jkgZdgSfmR",
    "scrolled": true
   },
   "outputs": [],
   "source": [
    "f = open(\"Numpy_blocking_p2p.py\", \"r\")\n",
    "print(f.read())\n",
    "f.close()"
   ]
  },
  {
   "cell_type": "code",
   "execution_count": null,
   "metadata": {
    "colab": {
     "base_uri": "https://localhost:8080/",
     "height": 71
    },
    "colab_type": "code",
    "id": "OSBIFJtaSpQi",
    "outputId": "509d96d8-3e94-4a36-f7b7-ef71050efec4"
   },
   "outputs": [],
   "source": [
    "!mpirun -n 3 python Numpy_blocking_p2p.py"
   ]
  },
  {
   "cell_type": "markdown",
   "metadata": {
    "colab_type": "text",
    "id": "-kqEBA9VR52P"
   },
   "source": [
    "# <strong> Non-blocking point-to-point communication\n",
    "</strong> \n"
   ]
  },
  {
   "cell_type": "code",
   "execution_count": null,
   "metadata": {
    "colab": {},
    "colab_type": "code",
    "id": "0-jkgZdgSfmR"
   },
   "outputs": [],
   "source": [
    "f = open(\"Nonblocking_p2p.py\", \"r\")\n",
    "print(f.read())\n",
    "f.close()"
   ]
  },
  {
   "cell_type": "code",
   "execution_count": null,
   "metadata": {
    "colab": {
     "base_uri": "https://localhost:8080/",
     "height": 71
    },
    "colab_type": "code",
    "id": "OSBIFJtaSpQi",
    "outputId": "509d96d8-3e94-4a36-f7b7-ef71050efec4"
   },
   "outputs": [],
   "source": [
    "!mpirun -n 3 python Nonblocking_p2p.py"
   ]
  },
  {
   "cell_type": "markdown",
   "metadata": {
    "colab_type": "text",
    "id": "kdppFy9M7G3W"
   },
   "source": [
    "# <strong> Collective communication: Sum-reduce </strong>"
   ]
  },
  {
   "cell_type": "code",
   "execution_count": null,
   "metadata": {
    "colab": {},
    "colab_type": "code",
    "id": "D5wc-zkSD2zn"
   },
   "outputs": [],
   "source": [
    "f = open(\"Sum_reduce.py\", \"r\")\n",
    "print(f.read())\n",
    "f.close()"
   ]
  },
  {
   "cell_type": "code",
   "execution_count": null,
   "metadata": {
    "colab": {
     "base_uri": "https://localhost:8080/",
     "height": 377
    },
    "colab_type": "code",
    "id": "RjRe3J2qEsNT",
    "outputId": "379fa1e6-2ef0-4bf6-f13a-efa0bf27a42d",
    "scrolled": true
   },
   "outputs": [],
   "source": [
    "!mpirun -n 5 python Sum_reduce.py"
   ]
  },
  {
   "cell_type": "markdown",
   "metadata": {
    "colab_type": "text",
    "id": "kdppFy9M7G3W"
   },
   "source": [
    "# <strong> Collective communication: Broadcast </strong>"
   ]
  },
  {
   "cell_type": "code",
   "execution_count": null,
   "metadata": {
    "colab": {},
    "colab_type": "code",
    "id": "D5wc-zkSD2zn"
   },
   "outputs": [],
   "source": [
    "f = open(\"Broadcast.py\", \"r\")\n",
    "print(f.read())\n",
    "f.close()"
   ]
  },
  {
   "cell_type": "code",
   "execution_count": null,
   "metadata": {
    "colab": {
     "base_uri": "https://localhost:8080/",
     "height": 377
    },
    "colab_type": "code",
    "id": "RjRe3J2qEsNT",
    "outputId": "379fa1e6-2ef0-4bf6-f13a-efa0bf27a42d",
    "scrolled": true
   },
   "outputs": [],
   "source": [
    "!mpirun -n 5 python Broadcast.py"
   ]
  },
  {
   "cell_type": "markdown",
   "metadata": {
    "colab_type": "text",
    "id": "kdppFy9M7G3W"
   },
   "source": [
    "# <strong> Collective communication: Scatter </strong>"
   ]
  },
  {
   "cell_type": "code",
   "execution_count": null,
   "metadata": {
    "colab": {},
    "colab_type": "code",
    "id": "D5wc-zkSD2zn"
   },
   "outputs": [],
   "source": [
    "f = open(\"Scatter.py\", \"r\")\n",
    "print(f.read())\n",
    "f.close()"
   ]
  },
  {
   "cell_type": "code",
   "execution_count": null,
   "metadata": {
    "colab": {
     "base_uri": "https://localhost:8080/",
     "height": 377
    },
    "colab_type": "code",
    "id": "RjRe3J2qEsNT",
    "outputId": "379fa1e6-2ef0-4bf6-f13a-efa0bf27a42d",
    "scrolled": true
   },
   "outputs": [],
   "source": [
    "!mpirun -n 5 python Scatter.py"
   ]
  },
  {
   "cell_type": "markdown",
   "metadata": {
    "colab_type": "text",
    "id": "kdppFy9M7G3W"
   },
   "source": [
    "# <strong> Collective communication: Gather </strong>"
   ]
  },
  {
   "cell_type": "code",
   "execution_count": null,
   "metadata": {
    "colab": {},
    "colab_type": "code",
    "id": "D5wc-zkSD2zn"
   },
   "outputs": [],
   "source": [
    "f = open(\"Gather.py\", \"r\")\n",
    "print(f.read())\n",
    "f.close()"
   ]
  },
  {
   "cell_type": "code",
   "execution_count": null,
   "metadata": {
    "colab": {
     "base_uri": "https://localhost:8080/",
     "height": 377
    },
    "colab_type": "code",
    "id": "RjRe3J2qEsNT",
    "outputId": "379fa1e6-2ef0-4bf6-f13a-efa0bf27a42d",
    "scrolled": true
   },
   "outputs": [],
   "source": [
    "!mpirun -n 5 python Gather.py"
   ]
  },
  {
   "cell_type": "markdown",
   "metadata": {
    "colab": {
     "base_uri": "https://localhost:8080/",
     "height": 35
    },
    "colab_type": "code",
    "id": "JJ-0Nnh65KFb",
    "outputId": "74a386d9-4cbd-4139-ba57-ab422e3bf71f"
   },
   "source": [
    "# <small> <i>Task 7. </small> </i> Study an integral\n",
    "* <big> $ S = \\displaystyle \\int_a^b  \\displaystyle \\frac{1}{\\sqrt{1 + x^2}} \\, dx$ </big>, where $a = 5$ and $b = 7$\n",
    "1. Compute analytically the value of $S$\n",
    "2. Provide a parallel numerical computation of the integral $S$ using, for example, the trapezoidal approximation $\\displaystyle \\int_{a}^{b} f(x) \\approx S_D = \\displaystyle \\sum_{k = 1}^{N-1} \\displaystyle \\frac{f\\left(a + k \\,\\tau\\right)+ f\\left(a + \\left(k - 1\\right) \\tau\\right) }{2}\\,\\,\\tau$, where $ a + (N - 1)\\tau = b$\n",
    "  * The number of MPI processes $n_p$ does not depend on the number of discretization points $N$, i.e., $n_p \\ne N$ in general. \n",
    "  * Use <strong>Reduce </strong> function of <i>mpi4py </i> to sum across processes.\n",
    "3. Plot the speedup $s(n_p)$ for a parallel version of program for different number of processes $n_p$. The speedup is determined by $s(n_p) = \\displaystyle \\frac{t_p(n_p)}{t_s}$, where $t_s$ and $t_p(n_p)$ are computational times of sequential and parallel versions of program.\n",
    "4. Plot the error value $e(\\tau) = |S_D(\\tau) - S| $ versus discretization step graph $\\tau$ by varying number of discretization steps $N$.\n",
    "\n",
    "<b> Bonus task. </b> \n",
    "* Implement the Monte Carlo method and compare with the trapezoidal method in terms of errors. \n",
    "* When the Monte Carlo method works better than the trapezoidal one?"
   ]
  },
  {
   "cell_type": "markdown",
   "metadata": {
    "colab_type": "text",
    "id": "oHs53iAm6DkN"
   },
   "source": [
    "# <small> <i>Task 8.</small> </i> Columnwise shifted pictures \n",
    "\n",
    "* Divide a picture into roughly equal blocks of columns. Each process takes its own block. The number of columns $N$ is not equal to the number of processes $n_p$, i.e., $N \\ne n_p$ in general.\n",
    "* Create $N$ new pictures by cyclically shifting the columns of pixels. E.g., for $N = 3 $: $[c_0, c_1, c_2] \\rightarrow [c_2, c_0, c_1] \\rightarrow [c_1, c_2, c_0]$"
   ]
  },
  {
   "cell_type": "markdown",
   "metadata": {},
   "source": [
    "# <small> <i>Task 9.</small> </i> Conway's Game of Life \n",
    "\n",
    "1. The universe of the Game of Life is a $N \\times N$ square, two-dimensional orthogonal grid of square cells, each of which is in one of two possible states, alive or dead. Every cell interacts with its eight neighbours, which are the cells that are horizontally, vertically, or diagonally adjacent (assume coordinates of neighbours modulo $N$). At each step in time, the following transitions occur:\n",
    "\n",
    "  * Any live cell with two or three neighbours survives.\n",
    "  * Any dead cell with three live neighbours becomes a live cell.\n",
    "  * All other live cells die in the next generation. Similarly, all other dead cells stay dead.\n",
    "\n",
    "2. Provide a parallel implementation for this Game of Life automaton, where each process should take some square (or rectangular, up to you) part of the grid.\n",
    "\n",
    "3. Show the evolution of the grid and number of the living cells in time for different initial conditions (random and the well known ones, like \"Gosper's gun\")."
   ]
  },
  {
   "cell_type": "code",
   "execution_count": null,
   "metadata": {},
   "outputs": [],
   "source": [
    "%pylab inline"
   ]
  },
  {
   "cell_type": "code",
   "execution_count": null,
   "metadata": {},
   "outputs": [],
   "source": [
    "class grid_class(object):\n",
    "    def __init__(self, size_x=100, size_y=100, coeff=0.5):\n",
    "        self.data=np.random.choice([0, 1], (size_x, size_y), replace=True, p=[coeff, 1.0-coeff])\n",
    "        self.size_x=size_x\n",
    "        self.size_y=size_y\n",
    "        self.coeff=coeff\n",
    "        \n",
    "    def plot(self):\n",
    "        figure(figsize=(10,10))\n",
    "        imshow(self.data, aspect='auto', interpolation='none')\n",
    "        gca().set_xticks([])\n",
    "        gca().set_yticks([])\n",
    "    \n",
    "    def count_neighbours(self, i=0, j=0):\n",
    "        count=0\n",
    "        \n",
    "        for incx in [-1,0,1]:\n",
    "            for incy in [-1,0,1]:\n",
    "                if ((incx!=0) or (incy!=0)):\n",
    "                    ix=i+incx\n",
    "                    iy=j+incy\n",
    "                    \n",
    "                    if ix==-1:\n",
    "                        ix+=self.size_x;\n",
    "                    elif ix==self.size_x:\n",
    "                        ix=0\n",
    "                        \n",
    "                    if iy==-1:\n",
    "                        iy+=self.size_y;\n",
    "                    elif iy==self.size_y:\n",
    "                        iy=0\n",
    "                        \n",
    "                    if self.data[ix,iy]==1:\n",
    "                        count+=1\n",
    "                    \n",
    "        return count\n",
    "    \n",
    "    def update(self,i=0,j=0):\n",
    "        count=self.count_neighbours(i,j)\n",
    "        change=0\n",
    "        \n",
    "        # if dead stay dead unless exactly three alive\n",
    "        # if alive stay alive only when two or three alive\n",
    "        # flip state otherwise\n",
    "        if (self.data[i,j]==0) and (count==3) or (self.data[i,j]==1) and ((count<2) or (count>3)):\n",
    "            self.data[i,j]=1-self.data[i,j]\n",
    "            change=1\n",
    "\n",
    "        return change\n",
    "                        \n",
    "    def one_time_step(self):\n",
    "        # go through the map, update each cell\n",
    "        change_count=0\n",
    "        \n",
    "        for i in arange(self.size_x):\n",
    "            for j in arange(self.size_y):\n",
    "                change_count+=self.update(i,j)\n",
    "        \n",
    "        return change_count"
   ]
  },
  {
   "cell_type": "code",
   "execution_count": null,
   "metadata": {},
   "outputs": [],
   "source": [
    "import copy\n",
    "grid=grid_class(50,50,0.9)\n",
    "figure(figsize=(10,10))\n",
    "imshow(grid.data, aspect='auto', cmap=bone(), interpolation='none')\n",
    "\n",
    "!rm -rf *.png\n",
    "!rm -rf *.gif"
   ]
  },
  {
   "cell_type": "code",
   "execution_count": null,
   "metadata": {},
   "outputs": [],
   "source": [
    "nofit=10\n",
    "\n",
    "fig=figure(figsize=(16,10))\n",
    "\n",
    "for n in arange(nofit):\n",
    "    bef=copy.deepcopy(grid.data)\n",
    "    change_count=grid.one_time_step()    \n",
    "    \n",
    "    ax2=subplot(121)\n",
    "    ax2.imshow(grid.data, interpolation='none', cmap=bone())\n",
    "    ax2.axis('off')\n",
    "    ax2.set_title('Grid')\n",
    "    \n",
    "    ax5=subplot(122)\n",
    "    ax5=plot(n, change_count, '*')\n",
    "    \n",
    "    filename = 'grid_%04d.png' % n \n",
    "    savefig(filename, dpi=50)\n",
    "      \n",
    "    if (array_equal(bef, grid.data)==True):\n",
    "        break"
   ]
  },
  {
   "cell_type": "code",
   "execution_count": null,
   "metadata": {},
   "outputs": [],
   "source": [
    "# create a movie somehow\n",
    "# this is probably not the best way ;)\n",
    "\n",
    "from PIL import Image\n",
    "import glob\n",
    "\n",
    "# Create the frames\n",
    "frames = []\n",
    "imgs = sorted(glob.glob(\"*.png\"))\n",
    "for i in imgs:\n",
    "    new_frame = Image.open(i)\n",
    "    frames.append(new_frame)\n",
    "\n",
    "# Save into a GIF file that loops forever\n",
    "frames[0].save('movie.gif', format='GIF',\n",
    "               append_images=frames[1:],\n",
    "               save_all=True,\n",
    "               duration=300, loop=0)"
   ]
  }
 ],
 "metadata": {
  "colab": {
   "name": "Task 7 & Task 8.ipynb",
   "provenance": []
  },
  "kernelspec": {
   "display_name": "Python 3",
   "language": "python",
   "name": "python3"
  },
  "language_info": {
   "codemirror_mode": {
    "name": "ipython",
    "version": 3
   },
   "file_extension": ".py",
   "mimetype": "text/x-python",
   "name": "python",
   "nbconvert_exporter": "python",
   "pygments_lexer": "ipython3",
   "version": "3.7.5"
  }
 },
 "nbformat": 4,
 "nbformat_minor": 1
}
